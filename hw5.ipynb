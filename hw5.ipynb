{
  "nbformat": 4,
  "nbformat_minor": 0,
  "metadata": {
    "colab": {
      "provenance": [],
      "authorship_tag": "ABX9TyO2LDyN6+DWeEhPCiDpefAT",
      "include_colab_link": true
    },
    "kernelspec": {
      "name": "python3",
      "display_name": "Python 3"
    },
    "language_info": {
      "name": "python"
    }
  },
  "cells": [
    {
      "cell_type": "markdown",
      "metadata": {
        "id": "view-in-github",
        "colab_type": "text"
      },
      "source": [
        "<a href=\"https://colab.research.google.com/github/UmaDeviPalaparthy/INF502/blob/main/hw5.ipynb\" target=\"_parent\"><img src=\"https://colab.research.google.com/assets/colab-badge.svg\" alt=\"Open In Colab\"/></a>"
      ]
    },
    {
      "cell_type": "code",
      "execution_count": 7,
      "metadata": {
        "colab": {
          "base_uri": "https://localhost:8080/"
        },
        "id": "lq9QMtC11nNb",
        "outputId": "ed1f005a-1ad8-4121-8d09-ccd93fef8cff"
      },
      "outputs": [
        {
          "output_type": "stream",
          "name": "stdout",
          "text": [
            "Calculating GCD for the below pairs : \n",
            " GCD(48, 30) is : 6\n",
            " GCD(100, 97) is : 1\n",
            " GCD(55, 44) is : 11\n",
            " GCD(5, 13) is : 1\n",
            " GCD(16, 80) is : 16\n",
            " GCD(0, 8) is : 8\n",
            " GCD(16, 0) is : 16\n",
            " GCD(-16, 80) is : 16\n",
            " GCD(-16, -80) is : 16\n",
            " GCD(16, -80) is : 16\n"
          ]
        }
      ],
      "source": [
        "# Method for calculating gcd recursively\n",
        "def gcd( a, b):\n",
        "  # since in recursive method we calculate gcd by diving the first number by second number i.e.,\n",
        "  # dividing a with b, get the reminder which is the new b, the b in previous step is now the new a\n",
        "  # in the below I am checking if b is not equal to 0, if equals goes to else block and returns a as the gcd for both the number. \n",
        "  # if b is not equal to zero the we recursively call the method again and again till the last reminder (which will be new b) is zero and \n",
        "  # then return a which will be the reminder from the previous division.\n",
        "  \n",
        "  if(b!=0):\n",
        "     return gcd(b, a % b)\n",
        "  else :\n",
        "     return abs(a)\n",
        "\n",
        "\n",
        "  # Example of the behaviour in one example - 55, 44 which will be our initial (a,b) set\n",
        "  #\n",
        "  # a =55, b = 44 which is not equal to 0, so enter the if condition and call gcd(a,b) which will be gcd(44, 55 % 44), the new a and b values are\n",
        "  # a =44, b = 11 ( b= 11 (reminder) because 44 * 1 = 44 < 55 and 44* 2 = 88 >55, so taking 44* 1 = 44 and 55 - 44 = 11 which be reminder from the previous a%b calculation),So b =11 which is !=0, so it goes into if condition to  invoke gcd(11, 44 % 11) \n",
        "  # a =11, b = 0 (b =0 (reminder) in this invocation because in the previous step a = 44, b = 11 and when invoking we passed a%b as b value, 'a' is divisible by 'b' with 0 as reminder, hence the new b in this step is 0),\n",
        "  # since b = 0 in the above step the execution enters else block\n",
        "  # in this else block it returns 'a' value which is 11, which is also the reminder from the previous division.\n",
        "\n",
        "  # once we get b = 0, the function return back to the parent invocation which is gcd(11, 0) and nothing pending or no additional statements are there here.\n",
        "  # hence the execution returns to the parent invocation which is gcd(44,11), here as well there is nothing pending to process \n",
        "  # hence the same 'a' value is returned back to the calling function which is gcd(55, 44), here as well since there is nothing pending 'a' value is returned back\n",
        "  # now all the pending stack of the recursive call is completed hence the above return - returns 'a' value to the main method, which is then printed.\n",
        "\n",
        "  # in any case if 'a' tends to be negative number then the absolute value of it is returned back to the calling environment - like mentioned above - here either nested methods or main method\n",
        "  \n",
        "\n",
        "# main method with few hardcoded examples. \n",
        "def main():\n",
        "\n",
        "  a = 48\n",
        "  b = 30\n",
        "\n",
        "  print( \"Calculating GCD for the below pairs : \")  \n",
        "  print(\" GCD(\"+ str(a)   + \", \"+ str(b)  + \") is : \" + str(gcd(a,b)))\n",
        "  print(\" GCD(\"+ str(100) + \", \"+ str(97) + \") is : \" + str(gcd(100, 97)))\n",
        "  print(\" GCD(\"+ str(55)  + \", \"+ str(44) + \") is : \" + str(gcd(55, 44)))\n",
        "  print(\" GCD(\"+ str(5)   + \", \"+ str(13) + \") is : \" + str(gcd(5, 13)))\n",
        "  print(\" GCD(\"+ str(16)  + \", \"+ str(80) + \") is : \" + str(gcd(16, 80)))\n",
        "  print(\" GCD(\"+ str(0)   + \", \"+ str(8)  + \") is : \" + str(gcd(0, 8)))\n",
        "  print(\" GCD(\"+ str(16)  + \", \"+ str(0)  + \") is : \" + str(gcd(16, 0)))\n",
        "  print(\" GCD(\"+ str(-16)  + \", \"+ str(80)  + \") is : \" + str(gcd(-16, 80)))\n",
        "  print(\" GCD(\"+ str(-16)  + \", \"+ str(-80)  + \") is : \" + str(gcd(-16, -80)))\n",
        "  print(\" GCD(\"+ str(16)  + \", \"+ str(-80)  + \") is : \" + str(gcd(16, -80)))\n",
        "\n",
        "\n",
        "\n",
        "# invocation of main method.\n",
        "main()\n",
        "\n"
      ]
    }
  ]
}