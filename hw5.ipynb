{
  "nbformat": 4,
  "nbformat_minor": 0,
  "metadata": {
    "colab": {
      "provenance": []
    },
    "kernelspec": {
      "name": "python3",
      "display_name": "Python 3"
    },
    "language_info": {
      "name": "python"
    }
  },
  "cells": [
    {
      "cell_type": "code",
      "execution_count": 41,
      "metadata": {
        "colab": {
          "base_uri": "https://localhost:8080/"
        },
        "id": "lq9QMtC11nNb",
        "outputId": "4462ced6-41f8-4e40-ec55-80123ef82b31"
      },
      "outputs": [
        {
          "output_type": "stream",
          "name": "stdout",
          "text": [
            "Calculating GCD for the below pairs : \n",
            " GCD(48, 30) is : 6\n",
            " GCD(100, 97) is : 1\n",
            " GCD(55, 44) is : 11\n",
            " GCD(5, 13) is : 1\n",
            " GCD(16, 80) is : 16\n",
            " GCD(0, 8) is : 8\n",
            " GCD(16, 0) is : 16\n"
          ]
        }
      ],
      "source": [
        "# Method for calculating gcd recursively\n",
        "def gcd( a, b):\n",
        "  # since in recursive method we calculate gcd by diving the first number by second number i.e.,\n",
        "  # dividing a with b, get the reminder which is the new b, the b in previous step is now the new a\n",
        "  # in the below I am checking if b is not equal to 0, if equals goes to else block and returns a as the gcd for both the number. \n",
        "  # if b is not equal to zero the we recursively call the method again and again till the last reminder (which will be new b) is zero and \n",
        "  # then return a which will be the reminder from the previous division.\n",
        "  if(b!=0):\n",
        "     return gcd(b, a % b)\n",
        "  else :\n",
        "     return a\n",
        "\n",
        "  # Example of the behaviour in one example - 55, 44 which will be our initial (a,b) set\n",
        "  #\n",
        "  # a =55, b = 44 which is not equal to 0, so enter the if condition and call gcd(a,b) which will be gcd(44, 55 % 44)\n",
        "  # a =44, b = 11 ( b= 11 (reminder) because 44 * 1 = 44 < 55 and 44* 2 = 88 >55, so taking 44* 1 = 44 and 55 - 44 = 11 which be reminder from the previous a%b calculation), b =11 which !=0, so go into if condition invoke gcd(11, 44 % 11) \n",
        "  # a =11, b = 0 (b =0 (reminder) in this invocation because in the previous step a = 44, b = 11 and when invocing we passed a%b as b value, a is divisible by b with 0 as reminder, hence the new b in this step is 0),\n",
        "  # since b =0 in the above step the execution enters else block\n",
        "  # in this else block it returns a value which is 11, which is also the reminder from the previous division.\n",
        "\n",
        "# main method with few hardcoded examples. \n",
        "def main():\n",
        "  #a = int(input(\"Enter first number for which GCD should be calculated : \"))\n",
        "  #b = int(input(\"Enter second number for which GCD should be calculated : \"))\n",
        "  a = 48\n",
        "  b = 30\n",
        "\n",
        "  print( \"Calculating GCD for the below pairs : \")  \n",
        "  print(\" GCD(\"+ str(a)   + \", \"+ str(b)  + \") is : \" + str(gcd(a,b)))\n",
        "  print(\" GCD(\"+ str(100) + \", \"+ str(97) + \") is : \" + str(gcd(100, 97)))\n",
        "  print(\" GCD(\"+ str(55)  + \", \"+ str(44) + \") is : \" + str(gcd(55, 44)))\n",
        "  print(\" GCD(\"+ str(5)   + \", \"+ str(13) + \") is : \" + str(gcd(5, 13)))\n",
        "  print(\" GCD(\"+ str(16)  + \", \"+ str(80) + \") is : \" + str(gcd(16, 80)))\n",
        "  print(\" GCD(\"+ str(0)   + \", \"+ str(8)  + \") is : \" + str(gcd(0, 8)))\n",
        "  print(\" GCD(\"+ str(16)  + \", \"+ str(0)  + \") is : \" + str(gcd(16, 0)))\n",
        "\n",
        "\n",
        "# invocation of main method.\n",
        "main()"
      ]
    }
  ]
}