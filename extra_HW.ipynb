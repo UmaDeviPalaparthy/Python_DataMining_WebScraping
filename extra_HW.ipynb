{
  "cells": [
    {
      "cell_type": "markdown",
      "metadata": {
        "id": "view-in-github",
        "colab_type": "text"
      },
      "source": [
        "<a href=\"https://colab.research.google.com/github/UmaDeviPalaparthy/INF502-Fall22/blob/main/extra_HW.ipynb\" target=\"_parent\"><img src=\"https://colab.research.google.com/assets/colab-badge.svg\" alt=\"Open In Colab\"/></a>"
      ]
    },
    {
      "cell_type": "markdown",
      "source": [
        "Naga Uma Devi Palaparthy (GitHub: https://github.com/UmaDeviPalaparthy/INF502/blob/main/extra_HW.ipynb)\n",
        "\n",
        "Sai Tejaswi Anne (GitHub : https://github.com/SaiTejaswiAnne/INF-502/blob/main/extra_HW.ipynb)\n",
        "\n",
        "Vyshnavi Madhavarapu (GitHub: https://github.com/VyshnaviMadhavarapu/INF-502/blob/main/extra_HW.ipynb)\n",
        "\n",
        "Venkata Sowmya Pillarisetty (GitHub: https://github.com/sowmyapillarisetty/INF502/blob/main/extra_HW.ipynb)"
      ],
      "metadata": {
        "id": "huI4IpRtp0BH"
      }
    },
    {
      "cell_type": "code",
      "execution_count": null,
      "metadata": {
        "id": "cAXRL6RCa50G"
      },
      "outputs": [],
      "source": [
        "import requests # importing requests library to invoke get method to web scrape the url\n",
        "from bs4 import BeautifulSoup # importing bs4 from BeautifulSoup library to beautify the html content read from url\n",
        "import pandas as pandas # importing pandas library to process the content and analyse it as needed."
      ]
    },
    {
      "cell_type": "code",
      "execution_count": null,
      "metadata": {
        "id": "19O8EA83a50J"
      },
      "outputs": [],
      "source": [
        "#1 point\n",
        "\n",
        "#getting all the data from the url into result object\n",
        "result = requests.get(\"https://en.wikipedia.org/wiki/List_of_countries_and_dependencies_by_population_density\")"
      ]
    },
    {
      "cell_type": "code",
      "execution_count": null,
      "metadata": {
        "id": "1x0g2xjfa50L"
      },
      "outputs": [],
      "source": [
        "# getting the content from the result object which will have html content.\n",
        "content = result.content\n",
        "# beautifing the html content using Beautiful Soup library\n",
        "popdensity = BeautifulSoup(content, \"html.parser\")"
      ]
    },
    {
      "cell_type": "code",
      "execution_count": null,
      "metadata": {
        "id": "4wWNE1Wka50P"
      },
      "outputs": [],
      "source": [
        "dataframe_data = list()  # 2 dimentional array to hold the data which should be processed into dataframe\n",
        "\n",
        "\n",
        "for row in popdensity.table.tbody.find_all('tr')[2:]: # we need all table data in main table, which first table in the page\n",
        "                                                      # - from 2nd row in the table we have the data needed for processing\n",
        "  row_data = list() # 1 dimensional array to hold each rows data.\n",
        "\n",
        "  if row.th.a.string != \"World\": # since we dont need the data of World, we are excluding it.\n",
        "    row_data.append(row.th.a.string) # each row has 1 'th' tag in which 'a' tag has the country name\n",
        "    for column in row.find_all('td')[0:3]:    # we only need first 3 columns (0,1,2) as per requirement\n",
        "      row_data.append(float(column.string.replace(',',''))) # population has ',' in this since we need number data type - removing ',' \n",
        "                                                            # some values in area km or area mi column have decimal values, hence converting the data to float\n",
        "    dataframe_data.append(row_data) # after each row data is collected adding it to 2d array which is used later to create data frame\n"
      ]
    },
    {
      "cell_type": "code",
      "source": [
        "#2nd point\n",
        "# using pandas library to convert the 2d array into data frame, defining the columns names as per requirement.\n",
        "dataset = pandas.DataFrame(dataframe_data, columns= ['Country', 'Population', 'Area(km)', 'Area(mi)'])\n",
        "# data types of all the columns.\n",
        "dataset.dtypes\n"
      ],
      "metadata": {
        "id": "6oPVLlq0yJm8",
        "colab": {
          "base_uri": "https://localhost:8080/"
        },
        "outputId": "824bca66-2495-47d0-f6be-ca83a292331c"
      },
      "execution_count": null,
      "outputs": [
        {
          "output_type": "execute_result",
          "data": {
            "text/plain": [
              "Country        object\n",
              "Population    float64\n",
              "Area(km)      float64\n",
              "Area(mi)      float64\n",
              "dtype: object"
            ]
          },
          "metadata": {},
          "execution_count": 5
        }
      ]
    },
    {
      "cell_type": "code",
      "source": [
        "#3rd point\n",
        "\n",
        "dataset.describe()\n",
        "\n",
        "#From the output, we can interpret that the maximum population value is 1.425893e+09 and the minimum value is 4.700000e+01. \n",
        "# The maximum area here is 1.709825e+07 in km and 6.601633e+06 in mi.\n",
        "# Where as the average population value is 3.189263e+07 in an average area of 5.456364e+05 km and average area of 2.106702e+05 mi.\n",
        "# Surprisingly there is an area value in km with minimum value of '0' and it is valid as per wikipedia for vatican city."
      ],
      "metadata": {
        "colab": {
          "base_uri": "https://localhost:8080/",
          "height": 300
        },
        "id": "AeGqHRuXyU0c",
        "outputId": "34e346bc-6abe-4f19-e872-566cbc251211"
      },
      "execution_count": null,
      "outputs": [
        {
          "output_type": "execute_result",
          "data": {
            "text/plain": [
              "         Population      Area(km)      Area(mi)\n",
              "count  2.480000e+02  2.480000e+02  2.480000e+02\n",
              "mean   3.189263e+07  5.456364e+05  2.106702e+05\n",
              "std    1.325428e+08  1.700353e+06  6.565065e+05\n",
              "min    4.700000e+01  0.000000e+00  0.000000e+00\n",
              "25%    3.130185e+05  1.533250e+03  5.920000e+02\n",
              "50%    5.058126e+06  6.493100e+04  2.506950e+04\n",
              "75%    1.959232e+07  3.623352e+05  1.398980e+05\n",
              "max    1.425893e+09  1.709825e+07  6.601633e+06"
            ],
            "text/html": [
              "\n",
              "  <div id=\"df-7b0e317d-7211-4d87-ba61-d972f14d4c09\">\n",
              "    <div class=\"colab-df-container\">\n",
              "      <div>\n",
              "<style scoped>\n",
              "    .dataframe tbody tr th:only-of-type {\n",
              "        vertical-align: middle;\n",
              "    }\n",
              "\n",
              "    .dataframe tbody tr th {\n",
              "        vertical-align: top;\n",
              "    }\n",
              "\n",
              "    .dataframe thead th {\n",
              "        text-align: right;\n",
              "    }\n",
              "</style>\n",
              "<table border=\"1\" class=\"dataframe\">\n",
              "  <thead>\n",
              "    <tr style=\"text-align: right;\">\n",
              "      <th></th>\n",
              "      <th>Population</th>\n",
              "      <th>Area(km)</th>\n",
              "      <th>Area(mi)</th>\n",
              "    </tr>\n",
              "  </thead>\n",
              "  <tbody>\n",
              "    <tr>\n",
              "      <th>count</th>\n",
              "      <td>2.480000e+02</td>\n",
              "      <td>2.480000e+02</td>\n",
              "      <td>2.480000e+02</td>\n",
              "    </tr>\n",
              "    <tr>\n",
              "      <th>mean</th>\n",
              "      <td>3.189263e+07</td>\n",
              "      <td>5.456364e+05</td>\n",
              "      <td>2.106702e+05</td>\n",
              "    </tr>\n",
              "    <tr>\n",
              "      <th>std</th>\n",
              "      <td>1.325428e+08</td>\n",
              "      <td>1.700353e+06</td>\n",
              "      <td>6.565065e+05</td>\n",
              "    </tr>\n",
              "    <tr>\n",
              "      <th>min</th>\n",
              "      <td>4.700000e+01</td>\n",
              "      <td>0.000000e+00</td>\n",
              "      <td>0.000000e+00</td>\n",
              "    </tr>\n",
              "    <tr>\n",
              "      <th>25%</th>\n",
              "      <td>3.130185e+05</td>\n",
              "      <td>1.533250e+03</td>\n",
              "      <td>5.920000e+02</td>\n",
              "    </tr>\n",
              "    <tr>\n",
              "      <th>50%</th>\n",
              "      <td>5.058126e+06</td>\n",
              "      <td>6.493100e+04</td>\n",
              "      <td>2.506950e+04</td>\n",
              "    </tr>\n",
              "    <tr>\n",
              "      <th>75%</th>\n",
              "      <td>1.959232e+07</td>\n",
              "      <td>3.623352e+05</td>\n",
              "      <td>1.398980e+05</td>\n",
              "    </tr>\n",
              "    <tr>\n",
              "      <th>max</th>\n",
              "      <td>1.425893e+09</td>\n",
              "      <td>1.709825e+07</td>\n",
              "      <td>6.601633e+06</td>\n",
              "    </tr>\n",
              "  </tbody>\n",
              "</table>\n",
              "</div>\n",
              "      <button class=\"colab-df-convert\" onclick=\"convertToInteractive('df-7b0e317d-7211-4d87-ba61-d972f14d4c09')\"\n",
              "              title=\"Convert this dataframe to an interactive table.\"\n",
              "              style=\"display:none;\">\n",
              "        \n",
              "  <svg xmlns=\"http://www.w3.org/2000/svg\" height=\"24px\"viewBox=\"0 0 24 24\"\n",
              "       width=\"24px\">\n",
              "    <path d=\"M0 0h24v24H0V0z\" fill=\"none\"/>\n",
              "    <path d=\"M18.56 5.44l.94 2.06.94-2.06 2.06-.94-2.06-.94-.94-2.06-.94 2.06-2.06.94zm-11 1L8.5 8.5l.94-2.06 2.06-.94-2.06-.94L8.5 2.5l-.94 2.06-2.06.94zm10 10l.94 2.06.94-2.06 2.06-.94-2.06-.94-.94-2.06-.94 2.06-2.06.94z\"/><path d=\"M17.41 7.96l-1.37-1.37c-.4-.4-.92-.59-1.43-.59-.52 0-1.04.2-1.43.59L10.3 9.45l-7.72 7.72c-.78.78-.78 2.05 0 2.83L4 21.41c.39.39.9.59 1.41.59.51 0 1.02-.2 1.41-.59l7.78-7.78 2.81-2.81c.8-.78.8-2.07 0-2.86zM5.41 20L4 18.59l7.72-7.72 1.47 1.35L5.41 20z\"/>\n",
              "  </svg>\n",
              "      </button>\n",
              "      \n",
              "  <style>\n",
              "    .colab-df-container {\n",
              "      display:flex;\n",
              "      flex-wrap:wrap;\n",
              "      gap: 12px;\n",
              "    }\n",
              "\n",
              "    .colab-df-convert {\n",
              "      background-color: #E8F0FE;\n",
              "      border: none;\n",
              "      border-radius: 50%;\n",
              "      cursor: pointer;\n",
              "      display: none;\n",
              "      fill: #1967D2;\n",
              "      height: 32px;\n",
              "      padding: 0 0 0 0;\n",
              "      width: 32px;\n",
              "    }\n",
              "\n",
              "    .colab-df-convert:hover {\n",
              "      background-color: #E2EBFA;\n",
              "      box-shadow: 0px 1px 2px rgba(60, 64, 67, 0.3), 0px 1px 3px 1px rgba(60, 64, 67, 0.15);\n",
              "      fill: #174EA6;\n",
              "    }\n",
              "\n",
              "    [theme=dark] .colab-df-convert {\n",
              "      background-color: #3B4455;\n",
              "      fill: #D2E3FC;\n",
              "    }\n",
              "\n",
              "    [theme=dark] .colab-df-convert:hover {\n",
              "      background-color: #434B5C;\n",
              "      box-shadow: 0px 1px 3px 1px rgba(0, 0, 0, 0.15);\n",
              "      filter: drop-shadow(0px 1px 2px rgba(0, 0, 0, 0.3));\n",
              "      fill: #FFFFFF;\n",
              "    }\n",
              "  </style>\n",
              "\n",
              "      <script>\n",
              "        const buttonEl =\n",
              "          document.querySelector('#df-7b0e317d-7211-4d87-ba61-d972f14d4c09 button.colab-df-convert');\n",
              "        buttonEl.style.display =\n",
              "          google.colab.kernel.accessAllowed ? 'block' : 'none';\n",
              "\n",
              "        async function convertToInteractive(key) {\n",
              "          const element = document.querySelector('#df-7b0e317d-7211-4d87-ba61-d972f14d4c09');\n",
              "          const dataTable =\n",
              "            await google.colab.kernel.invokeFunction('convertToInteractive',\n",
              "                                                     [key], {});\n",
              "          if (!dataTable) return;\n",
              "\n",
              "          const docLinkHtml = 'Like what you see? Visit the ' +\n",
              "            '<a target=\"_blank\" href=https://colab.research.google.com/notebooks/data_table.ipynb>data table notebook</a>'\n",
              "            + ' to learn more about interactive tables.';\n",
              "          element.innerHTML = '';\n",
              "          dataTable['output_type'] = 'display_data';\n",
              "          await google.colab.output.renderOutput(dataTable, element);\n",
              "          const docLink = document.createElement('div');\n",
              "          docLink.innerHTML = docLinkHtml;\n",
              "          element.appendChild(docLink);\n",
              "        }\n",
              "      </script>\n",
              "    </div>\n",
              "  </div>\n",
              "  "
            ]
          },
          "metadata": {},
          "execution_count": 6
        }
      ]
    },
    {
      "cell_type": "code",
      "source": [
        "#4th point\n",
        "dataset.corr(method='pearson')"
      ],
      "metadata": {
        "colab": {
          "base_uri": "https://localhost:8080/",
          "height": 143
        },
        "id": "_xxCfTJWye9n",
        "outputId": "446758ca-a49e-4178-ca56-ee1c951285a4"
      },
      "execution_count": null,
      "outputs": [
        {
          "output_type": "execute_result",
          "data": {
            "text/plain": [
              "            Population  Area(km)  Area(mi)\n",
              "Population    1.000000  0.459275  0.459275\n",
              "Area(km)      0.459275  1.000000  1.000000\n",
              "Area(mi)      0.459275  1.000000  1.000000"
            ],
            "text/html": [
              "\n",
              "  <div id=\"df-dc081422-1e65-419e-bcfb-e82b12c2d2cd\">\n",
              "    <div class=\"colab-df-container\">\n",
              "      <div>\n",
              "<style scoped>\n",
              "    .dataframe tbody tr th:only-of-type {\n",
              "        vertical-align: middle;\n",
              "    }\n",
              "\n",
              "    .dataframe tbody tr th {\n",
              "        vertical-align: top;\n",
              "    }\n",
              "\n",
              "    .dataframe thead th {\n",
              "        text-align: right;\n",
              "    }\n",
              "</style>\n",
              "<table border=\"1\" class=\"dataframe\">\n",
              "  <thead>\n",
              "    <tr style=\"text-align: right;\">\n",
              "      <th></th>\n",
              "      <th>Population</th>\n",
              "      <th>Area(km)</th>\n",
              "      <th>Area(mi)</th>\n",
              "    </tr>\n",
              "  </thead>\n",
              "  <tbody>\n",
              "    <tr>\n",
              "      <th>Population</th>\n",
              "      <td>1.000000</td>\n",
              "      <td>0.459275</td>\n",
              "      <td>0.459275</td>\n",
              "    </tr>\n",
              "    <tr>\n",
              "      <th>Area(km)</th>\n",
              "      <td>0.459275</td>\n",
              "      <td>1.000000</td>\n",
              "      <td>1.000000</td>\n",
              "    </tr>\n",
              "    <tr>\n",
              "      <th>Area(mi)</th>\n",
              "      <td>0.459275</td>\n",
              "      <td>1.000000</td>\n",
              "      <td>1.000000</td>\n",
              "    </tr>\n",
              "  </tbody>\n",
              "</table>\n",
              "</div>\n",
              "      <button class=\"colab-df-convert\" onclick=\"convertToInteractive('df-dc081422-1e65-419e-bcfb-e82b12c2d2cd')\"\n",
              "              title=\"Convert this dataframe to an interactive table.\"\n",
              "              style=\"display:none;\">\n",
              "        \n",
              "  <svg xmlns=\"http://www.w3.org/2000/svg\" height=\"24px\"viewBox=\"0 0 24 24\"\n",
              "       width=\"24px\">\n",
              "    <path d=\"M0 0h24v24H0V0z\" fill=\"none\"/>\n",
              "    <path d=\"M18.56 5.44l.94 2.06.94-2.06 2.06-.94-2.06-.94-.94-2.06-.94 2.06-2.06.94zm-11 1L8.5 8.5l.94-2.06 2.06-.94-2.06-.94L8.5 2.5l-.94 2.06-2.06.94zm10 10l.94 2.06.94-2.06 2.06-.94-2.06-.94-.94-2.06-.94 2.06-2.06.94z\"/><path d=\"M17.41 7.96l-1.37-1.37c-.4-.4-.92-.59-1.43-.59-.52 0-1.04.2-1.43.59L10.3 9.45l-7.72 7.72c-.78.78-.78 2.05 0 2.83L4 21.41c.39.39.9.59 1.41.59.51 0 1.02-.2 1.41-.59l7.78-7.78 2.81-2.81c.8-.78.8-2.07 0-2.86zM5.41 20L4 18.59l7.72-7.72 1.47 1.35L5.41 20z\"/>\n",
              "  </svg>\n",
              "      </button>\n",
              "      \n",
              "  <style>\n",
              "    .colab-df-container {\n",
              "      display:flex;\n",
              "      flex-wrap:wrap;\n",
              "      gap: 12px;\n",
              "    }\n",
              "\n",
              "    .colab-df-convert {\n",
              "      background-color: #E8F0FE;\n",
              "      border: none;\n",
              "      border-radius: 50%;\n",
              "      cursor: pointer;\n",
              "      display: none;\n",
              "      fill: #1967D2;\n",
              "      height: 32px;\n",
              "      padding: 0 0 0 0;\n",
              "      width: 32px;\n",
              "    }\n",
              "\n",
              "    .colab-df-convert:hover {\n",
              "      background-color: #E2EBFA;\n",
              "      box-shadow: 0px 1px 2px rgba(60, 64, 67, 0.3), 0px 1px 3px 1px rgba(60, 64, 67, 0.15);\n",
              "      fill: #174EA6;\n",
              "    }\n",
              "\n",
              "    [theme=dark] .colab-df-convert {\n",
              "      background-color: #3B4455;\n",
              "      fill: #D2E3FC;\n",
              "    }\n",
              "\n",
              "    [theme=dark] .colab-df-convert:hover {\n",
              "      background-color: #434B5C;\n",
              "      box-shadow: 0px 1px 3px 1px rgba(0, 0, 0, 0.15);\n",
              "      filter: drop-shadow(0px 1px 2px rgba(0, 0, 0, 0.3));\n",
              "      fill: #FFFFFF;\n",
              "    }\n",
              "  </style>\n",
              "\n",
              "      <script>\n",
              "        const buttonEl =\n",
              "          document.querySelector('#df-dc081422-1e65-419e-bcfb-e82b12c2d2cd button.colab-df-convert');\n",
              "        buttonEl.style.display =\n",
              "          google.colab.kernel.accessAllowed ? 'block' : 'none';\n",
              "\n",
              "        async function convertToInteractive(key) {\n",
              "          const element = document.querySelector('#df-dc081422-1e65-419e-bcfb-e82b12c2d2cd');\n",
              "          const dataTable =\n",
              "            await google.colab.kernel.invokeFunction('convertToInteractive',\n",
              "                                                     [key], {});\n",
              "          if (!dataTable) return;\n",
              "\n",
              "          const docLinkHtml = 'Like what you see? Visit the ' +\n",
              "            '<a target=\"_blank\" href=https://colab.research.google.com/notebooks/data_table.ipynb>data table notebook</a>'\n",
              "            + ' to learn more about interactive tables.';\n",
              "          element.innerHTML = '';\n",
              "          dataTable['output_type'] = 'display_data';\n",
              "          await google.colab.output.renderOutput(dataTable, element);\n",
              "          const docLink = document.createElement('div');\n",
              "          docLink.innerHTML = docLinkHtml;\n",
              "          element.appendChild(docLink);\n",
              "        }\n",
              "      </script>\n",
              "    </div>\n",
              "  </div>\n",
              "  "
            ]
          },
          "metadata": {},
          "execution_count": 7
        }
      ]
    },
    {
      "cell_type": "code",
      "source": [
        "#5th point\n",
        "dataset.plot.scatter(x = 'Population', y = 'Area(km)')"
      ],
      "metadata": {
        "colab": {
          "base_uri": "https://localhost:8080/",
          "height": 307
        },
        "id": "7haEiawZyg2M",
        "outputId": "ee5c4519-5bff-4424-d7bc-d8566ca4af33"
      },
      "execution_count": null,
      "outputs": [
        {
          "output_type": "execute_result",
          "data": {
            "text/plain": [
              "<matplotlib.axes._subplots.AxesSubplot at 0x7f4db64b4590>"
            ]
          },
          "metadata": {},
          "execution_count": 8
        },
        {
          "output_type": "display_data",
          "data": {
            "text/plain": [
              "<Figure size 432x288 with 1 Axes>"
            ],
            "image/png": "[encoded data removed]"
          },
          "metadata": {
            "needs_background": "light"
          }
        }
      ]
    }
  ],
  "metadata": {
    "colab": {
      "provenance": [],
      "collapsed_sections": []
    },
    "kernelspec": {
      "display_name": "Python 3 (ipykernel)",
      "language": "python",
      "name": "python3"
    },
    "language_info": {
      "codemirror_mode": {
        "name": "ipython",
        "version": 3
      },
      "file_extension": ".py",
      "mimetype": "text/x-python",
      "name": "python",
      "nbconvert_exporter": "python",
      "pygments_lexer": "ipython3",
      "version": "3.10.6"
    }
  },
  "nbformat": 4,
  "nbformat_minor": 0
}
